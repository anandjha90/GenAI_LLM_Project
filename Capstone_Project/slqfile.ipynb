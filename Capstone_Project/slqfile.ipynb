{
 "cells": [
  {
   "cell_type": "markdown",
   "id": "310f3f59",
   "metadata": {},
   "source": [
    "GenAI Data Migration Capstone — Step-by-step\n",
    " notes\n",
    " Purpose: A practical, repeatable checklist and runnable steps to migrate your CSV-based retail data\n",
    " (SALES, INVENTORY, CUSTOMERS) into MySQL, validate it, translate PL/SQL logic, and create BI-ready\n",
    " queries — with explicit examples, commands and QA tests.\n",
    " Table of contents\n",
    " 1. \n",
    "2. \n",
    "3. \n",
    "4. \n",
    "5. \n",
    "6. \n",
    "7. \n",
    "8. \n",
    "9. \n",
    "10. \n",
    "11. \n",
    "12. \n",
    "13. \n",
    "14. \n",
    "Quick summary\n",
    " Files you provided (what I referred to)\n",
    " Prerequisites (software & access)\n",
    " Step 0 — Quick exploration (what to check first)\n",
    " Step 1 — Schema design (mapping + \n",
    "CREATE TABLE scripts)\n",
    " Step 2 — Data import (several safe methods)\n",
    " Step 3 — Data validation checks (SQL + Python)\n",
    " Step 4 — Translate PL/SQL to MySQL (examples from your file)\n",
    " Step 5 — Automated tests (SQL test suite)\n",
    " Step 6 — Useful BI queries and example reports\n",
    " Step 7 — Performance, edge-cases & troubleshooting notes\n",
    " Deliverables checklist\n",
    " How GenAI helped / sample prompts you can reuse\n",
    " Next steps & optional extras\n",
    " 1) Quick summary\n",
    " This document walks you from CSV → MySQL schema → import → validate → convert business logic →\n",
    " tests → BI queries. Each step includes copy-paste SQL, Python snippets, and troubleshooting tips.\n",
    " 2) Files I used as reference\n",
    " I used your Capstone brief and dataset description along with the example PL/SQL procedures you\n",
    " uploaded.\n",
    " (These are the files you provided.)\n",
    " 3) Prerequisites\n",
    " • \n",
    "• \n",
    "• \n",
    "MySQL server (8.x recommended) or compatible (Aurora MySQL, RDS) with a database created\n",
    " for the project.\n",
    " MySQL client or Workbench OR Python with \n",
    "pandas , \n",
    "sqlalchemy , \n",
    "pymysql installed.\n",
    " Access to the machine where CSVs are stored (for \n",
    "LOAD DATA INFILE ) or ability to use \n",
    "• \n",
    "LOAD \n",
    "DATA LOCAL INFILE .\n",
    " Optional: MySQL Workbench for GUI import, Power BI / Metabase / Superset for visualization"
   ]
  },
  {
   "cell_type": "markdown",
   "id": "cf2cb588",
   "metadata": {},
   "source": [
    "!  pip install pandas sqlalchemy pymysql"
   ]
  },
  {
   "cell_type": "markdown",
   "id": "a17fba86",
   "metadata": {},
   "source": []
  },
  {
   "cell_type": "markdown",
   "id": "cf0d1d0b",
   "metadata": {},
   "source": [
    "###pip install pandas sqlalchemy pymysql"
   ]
  },
  {
   "cell_type": "code",
   "execution_count": null,
   "id": "dcd3dce5",
   "metadata": {
    "vscode": {
     "languageId": "plaintext"
    }
   },
   "outputs": [],
   "source": [
    "import pandas as pd\n",
    "for f in ['CUSTOMERS.csv','INVENTORY.csv','SALES.csv']:\n",
    "    df = pd.read_csv(f, nrows=5)\n",
    "    print(f) ; print(df.dtypes) ; print(df.head())"
   ]
  }
 ],
 "metadata": {
  "language_info": {
   "name": "python"
  }
 },
 "nbformat": 4,
 "nbformat_minor": 5
}
